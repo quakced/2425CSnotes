{
 "cells": [
  {
   "cell_type": "code",
   "execution_count": null,
   "id": "4af575c1-3b67-49bf-976a-0391f6239923",
   "metadata": {},
   "outputs": [],
   "source": [
    "import glob  #a module that can obtain multiple files at the same time\n",
    "import matplotlib.pyplot as plt"
   ]
  },
  {
   "cell_type": "code",
   "execution_count": null,
   "id": "12630388-dac4-4045-9c78-a8bc583c4f09",
   "metadata": {},
   "outputs": [],
   "source": [
    "#find the names of all of the books\n",
    "books = glob.glob(\"OriginalData/*.txt\")\n",
    "bookshelf=[]\n",
    "for eachBook in books:\n",
    "    name=eachBook[eachBook.index(\"B\"):eachBook.index(\".\")]\n",
    "    bookshelf.append(name)"
   ]
  },
  {
   "cell_type": "markdown",
   "id": "f2133310-1dd1-4d50-a8e4-3a77f815390a",
   "metadata": {},
   "source": [
    "\n",
    "And now I can type whatever I want\n",
    "Any assumptions or thoughts, so when Bander sees your stuff he can try to understand your logic..."
   ]
  },
  {
   "cell_type": "code",
   "execution_count": null,
   "id": "285080c2-3c65-41de-8b4e-952a4e05b4db",
   "metadata": {},
   "outputs": [],
   "source": [
    "amountComp=[]\n",
    "for i in range(7):\n",
    "    with open(f\"OriginalData\\OriginalData-{bookshelf[i]}.txt\",\"r\",encoding=\"utf8\") as file:\n",
    "        f = file.readlines()\n",
    "        file.close()\n",
    "\n",
    "    out=[]\n",
    "    # remove the lines with just \\n\n",
    "    for eachLine in f:\n",
    "        if not eachLine == \"\\n\":\n",
    "            out.append(eachLine)\n",
    "\n",
    "    print(len(f))\n",
    "    print(len(out))\n",
    "    print(f\"Reduced by: {((1-len(out)/len(f))*100):.1f}%\")\n",
    "    amountComp.append((1-len(out)/len(f))*100)\n",
    "    \n",
    "    #write out to a clean data to a new folder in utf8 formatting\n",
    "    cleanFile = open(f\"CleanData/Clean-{bookshelf[i]}.txt\",\"w+\",encoding=\"utf8\")\n",
    "    for eachLine in out:\n",
    "        cleanFile.write(eachLine)\n",
    "    cleanFile.close()"
   ]
  },
  {
   "cell_type": "code",
   "execution_count": null,
   "id": "0f4c3b05-7a02-4fc0-8e21-f427d5c2f775",
   "metadata": {},
   "outputs": [],
   "source": [
    "### Graph out to visually compare the lines reduced\n",
    "This is only removing the blank lines in the file\n",
    "'TODO: need to look at compressing unnecessary in the file'"
   ]
  },
  {
   "cell_type": "code",
   "execution_count": null,
   "id": "efd341c3-dc78-4d5b-a0ac-cfa3e63c5407",
   "metadata": {},
   "outputs": [],
   "source": [
    "plt.bar(range(1,8),amountComp)\n",
    "plt.title(\"Amount of Lines Reduced\")\n",
    "plt.xlabel(\"Book #\")\n",
    "plt.ylabel(\"% reduced\")\n",
    "plt.ylim(31,34)\n",
    "plt.show()"
   ]
  },
  {
   "cell_type": "code",
   "execution_count": null,
   "id": "9adea5b8-c3a6-4c2e-85bc-e98874158105",
   "metadata": {},
   "outputs": [],
   "source": [
    "wordsToFind={  #Python Dictionary or JSON\n",
    "    #\"key\":value\n",
    "    \"Harry\":0,\n",
    "    \"Ron\":0,\n",
    "    \"Ronald\":0,\n",
    "    \"Hermione\":0,\n",
    "    \"Albus\":0,\n",
    "    \"Hagrid\":0,\n",
    "    \"wizard\":0,\n",
    "    \"witch\":0,\n",
    "    \"Wizard\":0,\n",
    "    \"Witch\":0,\n",
    "    \"Snake\":0,\n",
    "    \"snake\":0,\n",
    "    \"Voldemort\":0,\n",
    "    \"Tom Marvolo Riddle\":0,\n",
    "    \"You-Know-Who\":0,\n",
    "    \"The Dark Lord\":0,\n",
    "    \"He-Who-Must-Not-Be-Named\":0,\n",
    "}"
   ]
  },
  {
   "cell_type": "code",
   "execution_count": null,
   "id": "c1c08142-a96a-4187-9c00-e7d80ed93e23",
   "metadata": {},
   "outputs": [],
   "source": [
    "for i in range(7):\n",
    "    file = open(f\"CleanData/Clean-{bookshelf[i]}.txt\",\"r\",encoding=\"utf8\")\n",
    "    for eachLine in file:\n",
    "        for eachName in wordsToFind:\n",
    "            if not \"Rowling\" in eachLine:   #skip page title at bottom\n",
    "                wordsInALine = eachLine.split(\" \")\n",
    "                for eachWord in wordsInALine:\n",
    "                    if eachName in eachWord:\n",
    "                        wordsToFind[eachName]+=1\n",
    "    file.close()\n",
    "    for name, instances in wordsToFind.items():\n",
    "        print(f\"Total instances of {name}:{instances}\")"
   ]
  },
  {
   "cell_type": "code",
   "execution_count": null,
   "id": "138fc890-e35e-4b1d-b019-d32b3214ccc6",
   "metadata": {},
   "outputs": [],
   "source": []
  }
 ],
 "metadata": {
  "kernelspec": {
   "display_name": "Python 3 (ipykernel)",
   "language": "python",
   "name": "python3"
  },
  "language_info": {
   "codemirror_mode": {
    "name": "ipython",
    "version": 3
   },
   "file_extension": ".py",
   "mimetype": "text/x-python",
   "name": "python",
   "nbconvert_exporter": "python",
   "pygments_lexer": "ipython3",
   "version": "3.13.0"
  }
 },
 "nbformat": 4,
 "nbformat_minor": 5
}
